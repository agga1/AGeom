{
 "cells": [
  {
   "cell_type": "markdown",
   "metadata": {
    "collapsed": true
   },
   "source": [
    "# Laboratorium 2\n"
   ]
  },
  {
   "cell_type": "markdown",
   "metadata": {},
   "source": [
    "### Konfiguracja"
   ]
  },
  {
   "cell_type": "code",
   "execution_count": 2,
   "metadata": {},
   "outputs": [],
   "source": [
    "import numpy as np\n",
    "import matplotlib.pyplot as plt\n",
    "import matplotlib.collections as mcoll\n",
    "import matplotlib.colors as mcolors\n",
    "from matplotlib.widgets import Button\n",
    "import json as js\n",
    "\n",
    "class _Button_callback(object):\n",
    "    def __init__(self, scenes):\n",
    "        self.i = 0\n",
    "        self.scenes = scenes\n",
    "\n",
    "    def set_axis(self, ax):\n",
    "        self.ax = ax\n",
    "        \n",
    "    def next(self, event):\n",
    "        self.i = (self.i + 1) % len(scenes)\n",
    "        self.draw()\n",
    "\n",
    "    def prev(self, event):\n",
    "        self.i = (self.i - 1) % len(scenes)\n",
    "        self.draw()\n",
    "        \n",
    "    def draw(self):\n",
    "        self.ax.clear()\n",
    "        for collection in scenes[self.i].points:\n",
    "            if len(collection.points) > 0:\n",
    "                self.ax.scatter(*zip(*(np.array(collection.points))), c=collection.color, marker=collection.marker)\n",
    "        for collection in scenes[self.i].lines:\n",
    "            self.ax.add_collection(collection.get_collection())\n",
    "        self.ax.autoscale()\n",
    "        plt.draw()"
   ]
  },
  {
   "cell_type": "markdown",
   "metadata": {},
   "source": [
    "### Interfejsy\n",
    "\n",
    "[Dostępne kolory](https://matplotlib.org/3.1.1/gallery/color/named_colors.html)\n",
    "\n",
    "[Dostępne znaczniki punktów](https://matplotlib.org/3.1.1/api/markers_api.html#module-matplotlib.markers)"
   ]
  },
  {
   "cell_type": "code",
   "execution_count": 3,
   "metadata": {},
   "outputs": [],
   "source": [
    "class Scene:\n",
    "    def __init__(self, points=[], lines=[]):\n",
    "        self.points=points\n",
    "        self.lines=lines\n",
    "\n",
    "class PointsCollection:\n",
    "    def __init__(self, points = [], color = None, marker = None):\n",
    "        self.points = np.array(points)\n",
    "        self.color = color\n",
    "        self.marker = marker\n",
    "\n",
    "class LinesCollection:\n",
    "    def __init__(self, lines = [], color = None):\n",
    "        self.color = color\n",
    "        self.lines = lines\n",
    "        \n",
    "    def add(self, line):\n",
    "        self.lines.append(line)\n",
    "        \n",
    "    def get_collection(self):\n",
    "        if self.color:\n",
    "            return mcoll.LineCollection(self.lines, colors=mcolors.to_rgba(self.color))\n",
    "        else:\n",
    "            return mcoll.LineCollection(self.lines)\n",
    "            \n",
    "\n",
    "\n",
    "class Plot:\n",
    "    def __init__(self, scenes = [], json = None):\n",
    "        if json is None:\n",
    "            self.scenes = scenes\n",
    "        else:\n",
    "            self.scenes = [Scene([PointsCollection(pointsCol) for pointsCol in scene[\"points\"]], \n",
    "                                 [LinesCollection(linesCol) for linesCol in scene[\"lines\"]]) \n",
    "                           for scene in js.loads(json)]\n",
    "        \n",
    "    def __configure_buttons(self, callback):\n",
    "        plt.subplots_adjust(bottom=0.2)\n",
    "        axprev = plt.axes([0.6, 0.05, 0.15, 0.075])\n",
    "        axnext = plt.axes([0.76, 0.05, 0.15, 0.075])\n",
    "        bnext = Button(axnext, 'Następny')\n",
    "        bnext.on_clicked(callback.next)\n",
    "        bprev = Button(axprev, 'Poprzedni')\n",
    "        bprev.on_clicked(callback.prev)\n",
    "        return [bprev, bnext]\n",
    "\n",
    "    def draw(self):\n",
    "        plt.close()\n",
    "        callback = _Button_callback(self.scenes)\n",
    "        self.widgets = self.__configure_buttons(callback)\n",
    "        callback.set_axis(plt.axes())\n",
    "        plt.show()\n",
    "        callback.draw()\n",
    "        \n",
    "    def toJSON(self):\n",
    "        return js.dumps([{\"points\": [pointCol.points.tolist() for pointCol in scene.points], \n",
    "                          \"lines\":[linesCol.lines for linesCol in scene.lines]} \n",
    "                         for scene in self.scenes])\n",
    "    "
   ]
  },
  {
   "cell_type": "markdown",
   "metadata": {},
   "source": [
    "### Przykład użycia"
   ]
  },
  {
   "cell_type": "code",
   "execution_count": 4,
   "metadata": {},
   "outputs": [
    {
     "name": "stdout",
     "output_type": "stream",
     "text": [
      "Warning: Cannot change to a different GUI toolkit: notebook. Using tk instead.\n"
     ]
    }
   ],
   "source": [
    "%matplotlib notebook\n",
    "\n",
    "# scenes=[Scene([PointsCollection([(1, 2), (3, 1.5), (2, -1)]), \n",
    "#                PointsCollection([(5, -2), (2, 2), (-2, -1)], 'green', marker = \"^\")], \n",
    "#               [LinesCollection([[(1,2),(2,3)], [(0,1),(1,0)]], 'orange')]), \n",
    "#         Scene([PointsCollection([(1, 2), (-15, 1.5), (2, -1)], 'red'), \n",
    "#                PointsCollection([(5, -2), (2, 2), (-2, 1)], 'black')], \n",
    "#               [LinesCollection([[(-1,2),(-2,3)], [(0,-1),(-1,0)]])])]\n",
    "\n",
    "# plot = Plot(scenes)\n",
    "# plot.draw() \n"
   ]
  },
  {
   "cell_type": "markdown",
   "metadata": {},
   "source": [
    "### Rozwiązanie"
   ]
  },
  {
   "cell_type": "code",
   "execution_count": 5,
   "metadata": {},
   "outputs": [],
   "source": [
    "signs = [-1, 1]\n",
    "import random\n",
    "def generatePoints(nr, valRange):\n",
    "    points = []\n",
    "    for i in range(0, nr):\n",
    "        point = (random.random()*valRange*random.choice(signs), random.random()*valRange*random.choice(signs))\n",
    "        points.append(point)\n",
    "    return points\n"
   ]
  },
  {
   "cell_type": "code",
   "execution_count": 6,
   "metadata": {},
   "outputs": [],
   "source": [
    "import math\n",
    "signs = [-1, 1]\n",
    "\n",
    "def generateOnCircle(nr, R=1, middle=(0,0)):\n",
    "    points = []\n",
    "    for i in range(0, nr):\n",
    "        t = random.random()\n",
    "        x = math.cos(math.pi/2*t)*R*random.choice(signs)\n",
    "        y = math.sin(math.pi/2*t)*R*random.choice(signs)\n",
    "        x += middle[0]\n",
    "        y += middle[1]\n",
    "        points.append((x,y))\n",
    "    return points\n"
   ]
  },
  {
   "cell_type": "code",
   "execution_count": 7,
   "metadata": {},
   "outputs": [],
   "source": [
    "import math\n",
    "signs = [-1, 1]\n",
    "\n",
    "def generateOnRect(nr, lowLeft, highRight):\n",
    "    a = highRight[0]-lowLeft[0]\n",
    "    b = highRight[1]-lowLeft[1]\n",
    "    L = 2*(a) + 2*(b)\n",
    "    points = []\n",
    "    for i in range(0, nr):\n",
    "        t = random.random()*L\n",
    "        if t<=a:  # pierwszy bok\n",
    "            x = lowLeft[0] + t\n",
    "            y = lowLeft[1]\n",
    "        elif t<=a+b:\n",
    "            x = highRight[0]\n",
    "            y = lowLeft[1] + t-a\n",
    "        elif t<2*a+b:\n",
    "            x = highRight[0]- (t-a-b)\n",
    "            y = highRight[1]\n",
    "        else:\n",
    "            x = lowLeft[0]\n",
    "            y = highRight[1]-(t-2*a-b)\n",
    "        \n",
    "        points.append((x,y))\n",
    "    return points\n"
   ]
  },
  {
   "cell_type": "code",
   "execution_count": 8,
   "metadata": {},
   "outputs": [],
   "source": [
    "import random\n",
    "import math\n",
    "def generateOnSquare(lowLeft=(0, 0), highRight=(10,10), ptsOnAxes=25, ptsOnDiag=20):\n",
    "    a = lowLeft\n",
    "    b = (lowLeft[0], highRight[1])\n",
    "    c = highRight\n",
    "    d = (highRight[0], lowLeft[1])\n",
    "    points = [a, b, c, d]\n",
    "    for i in range(ptsOnAxes):\n",
    "        snd = random.uniform(a[1], c[1])\n",
    "        points.append((0, snd))\n",
    "    for i in range(ptsOnAxes):\n",
    "        snd = random.uniform(a[0], c[0])\n",
    "        points.append((snd, 0))\n",
    "    for i in range(ptsOnDiag):\n",
    "        x = random.uniform(a[0], c[0])\n",
    "        points.append((x, x))\n",
    "    for i in range(ptsOnDiag):\n",
    "        x = random.uniform(a[0], c[0])\n",
    "        points.append((x, c[1]-a[1]-x))\n",
    "    return points\n",
    "        "
   ]
  },
  {
   "cell_type": "code",
   "execution_count": 9,
   "metadata": {},
   "outputs": [],
   "source": [
    "# 1a)\n",
    "setA = generatePoints(100, 100)\n",
    "setB = generateOnCircle(100, 10)\n",
    "setC = generateOnRect(1000,[-10, -10], [10, 10])\n",
    "setD = generateOnSquare()\n",
    "\n",
    "sets = [setA, setB, setC, setD]"
   ]
  },
  {
   "cell_type": "code",
   "execution_count": 10,
   "metadata": {
    "scrolled": true
   },
   "outputs": [
    {
     "name": "stdout",
     "output_type": "stream",
     "text": [
      "Warning: Cannot change to a different GUI toolkit: notebook. Using tk instead.\n"
     ]
    }
   ],
   "source": [
    "%matplotlib notebook\n",
    "scenes = []\n",
    "for setx in sets:\n",
    "    scenes.append(Scene([PointsCollection(setx)])) \n",
    "\n",
    "plot = Plot(scenes)\n",
    "plot.draw()"
   ]
  },
  {
   "cell_type": "code",
   "execution_count": 11,
   "metadata": {},
   "outputs": [],
   "source": [
    "\"\"\" funkcje pomocnicze \"\"\"\n",
    "\n",
    "def orient(a, b, c, eps=1e-12):  # zwraca znak wyznacznika z dokładnością do eps\n",
    "    matrix = [[a[0], a[1], 1], [b[0], b[1], 1], [c[0], c[1], 1]]\n",
    "    det = 0\n",
    "    for j in range(0, 3):\n",
    "        det += matrix[0][j]*matrix[1][(j+1)%3]*matrix[2][(j+2)%3]\n",
    "    for j in range(0, 3):\n",
    "        det -= matrix[2][j]*matrix[1][(j+1)%3]*matrix[0][(j+2)%3]\n",
    "    if det>eps:\n",
    "        return 1\n",
    "    elif det<-eps:\n",
    "        return -1\n",
    "    return 0\n",
    "    \n",
    "# funkcja porównująca punkty na podstawie ich położenia względem punktu lowest\n",
    "def cmp (a, b, lowest=(0, 0), eps=1e-10):  \n",
    "    ans = orient(lowest, a, b, eps)\n",
    "    return -1*ans\n",
    "\n",
    "def cmpByY(a, b):\n",
    "    if(a[1]<b[1]):\n",
    "        return -1\n",
    "    if(a[1]>b[1]):\n",
    "        return 1\n",
    "    if(a[0]<b[0]):\n",
    "        return -1\n",
    "    if(a[0]==b[0]):\n",
    "        return 0\n",
    "    return 1\n",
    "\n",
    "\n",
    "# zwraca najnizszy wzgl y pkt (jeśli y1 == y2 to porównuje x) oraz usuwa go z tablicy wejściowej\n",
    "\n",
    "def findAndDelLowest(points): \n",
    "    if len(points) == 0:\n",
    "        return None\n",
    "    lowest = points[0]\n",
    "    ind = 0\n",
    "    for idx, point in enumerate(points):\n",
    "        if cmpByY(point, lowest) == -1:\n",
    "            lowest = point\n",
    "            ind = idx\n",
    "    del points[ind]\n",
    "    return lowest\n",
    "\n",
    "# zwraca ten z punktów a, b, który jest dalej położony od refPt\n",
    "def furtherToRef(a, b, refPt):\n",
    "    distA = (a[0]-refPt[0])**2 + (a[1]-refPt[1])**2 \n",
    "    distB = (b[0]-refPt[0])**2 + (b[1]-refPt[1])**2 \n",
    "    return a if distA>distB else b\n",
    "    \n",
    "# zwraca punkt o najmniejszym kącie względem punktu referencyjnego refPt,\n",
    "# a jeśli katy są te same, to ten położony dalej od refPt\n",
    "def findMinAndDel(points, refPt, eps):\n",
    "    if len(points) == 0:\n",
    "        raise ValueError(\"points list is empty\")\n",
    "    locMin = points[0]\n",
    "    locInd = 0\n",
    "    i = 1\n",
    "    while i<len(points):\n",
    "        if cmp(points[i], locMin, refPt, eps) == -1:\n",
    "            locMin = points[i]\n",
    "            locInd = i\n",
    "        if cmp(points[i], locMin, refPt, eps) == 0:\n",
    "            if(furtherToRef(points[i], locMin, refPt) == points[i]):\n",
    "                locMin = points[i]\n",
    "                locInd = i\n",
    "        i += 1\n",
    "    del points[locInd]\n",
    "    return locMin\n",
    "\n",
    "# print(orient((1, 1),(3, 2),(5, 2)))"
   ]
  },
  {
   "cell_type": "code",
   "execution_count": 12,
   "metadata": {},
   "outputs": [],
   "source": [
    "\"\"\" algorytm grahama \"\"\"\n",
    "from functools import cmp_to_key\n",
    "\n",
    "def graham(points, eps=1e-10):\n",
    "    lowest = findAndDelLowest(points)\n",
    "    pts = sorted(points, key=cmp_to_key(lambda x,y: cmp(x, y,lowest, eps)))  # sortowanie tablicy z wyłączeniem punktu najniższego\n",
    "    points.append(lowest)  # ponowne dodanie najnizszego punktu do tabeli wejściowej\n",
    "    i = 1\n",
    "    res = [lowest, pts[0]]\n",
    "    while i<len(pts):\n",
    "        if len(res) < 2 or orient(res[-2], res[-1], pts[i]) > 0:\n",
    "#             print(\"adding \", pts[i])\n",
    "            res.append(pts[i])\n",
    "            i += 1\n",
    "        else:\n",
    "#             print(\"removing \", res[-1])\n",
    "            del res[-1]          \n",
    "    return res\n",
    "\n",
    "\n",
    "# mypts =[(1,2), (0,0), (2, 1),(0, -1) ,(-1, 1), (2, 3), (0, 3)] \n",
    "# print(graham(mypts))\n",
    "# print(mypts)\n",
    "    \n"
   ]
  },
  {
   "cell_type": "code",
   "execution_count": 13,
   "metadata": {},
   "outputs": [],
   "source": [
    "\"\"\" algorytm Jarvisa \"\"\"\n",
    "from functools import cmp_to_key\n",
    "\n",
    "def jarvis(points, eps=1e-10):\n",
    "    if len(points) <= 3:\n",
    "        return points\n",
    "    lowest = findAndDelLowest(points)\n",
    "    ans = [lowest]\n",
    "    i = findMinAndDel(points, lowest, eps)\n",
    "    ans.append(i)\n",
    "    points.append(lowest)  # gdy ten punkt zostanie znowu wylosowany, to znaczy że znaleźliśmy otoczkę\n",
    "    \n",
    "    i = findMinAndDel(points, i, eps)\n",
    "    while i != lowest:\n",
    "        ans.append(i)\n",
    "        i = findMinAndDel(points, i, eps)\n",
    "    return ans\n",
    "\n",
    "    \n",
    "# ar = [(2,4),(3,3), (3, 5)]\n",
    "# print(findMinAndDel(ar, (2,2))  )\n",
    "# print(ar)\n",
    "\n",
    "\n",
    "# mypts =[(1,2), (0,0), (2, 1),(0, -1) ,(-1, 1), (2, 3), (0, 3)] \n",
    "# print(jarvis(mypts))\n",
    "# print(mypts)\n",
    "  "
   ]
  },
  {
   "cell_type": "code",
   "execution_count": 14,
   "metadata": {},
   "outputs": [],
   "source": [
    "\"\"\" prezentacja graficzna gotowych wynikow dzialania algorytmu grahama \"\"\"\n",
    "scenes = []\n",
    "\n",
    "# dodanie zmodyfikowanych zbiorow z cw 1\n",
    "setA = generatePoints(100, 100)\n",
    "setB = generateOnCircle(100, 10)\n",
    "setC = generateOnRect(1000,[-10, -10], [10, 10])\n",
    "setD = generateOnSquare()\n",
    "setE = generateOnRect(200, (10, 2), (14, 5))\n",
    "\n",
    "sets = [setA, setB, setC, setD, setE]\n",
    "\n",
    "# wyświetlenie działania lgorytmu grahama\n",
    "for setx in sets:\n",
    "    setGraham = graham(setx)\n",
    "    scenes.append(Scene([PointsCollection(setx, color='blue'),\n",
    "                     PointsCollection(setGraham, color='orange')])) \n"
   ]
  },
  {
   "cell_type": "code",
   "execution_count": 15,
   "metadata": {},
   "outputs": [
    {
     "name": "stdout",
     "output_type": "stream",
     "text": [
      "Using matplotlib backend: TkAgg\n"
     ]
    }
   ],
   "source": [
    "\"\"\" prezentacja graficzna wyniku algorytmu Jarvisa \"\"\"\n",
    "\n",
    "%matplotlib\n",
    "\n",
    "# wyświetlenie działania lgorytmu jarvisa\n",
    "for setx in sets:\n",
    "    setJarvis = jarvis(setx, 1e-10)\n",
    "    scenes.append(Scene([PointsCollection(setx, color='blue'),\n",
    "                     PointsCollection(setJarvis, color='orange')])) \n",
    "\n",
    "\n",
    "plot = Plot(scenes)\n",
    "plot.draw()\n"
   ]
  },
  {
   "cell_type": "code",
   "execution_count": 16,
   "metadata": {},
   "outputs": [],
   "source": [
    "scenes = []\n",
    "\n",
    "# dodanie zmodyfikowanych zbiorow z cw 1\n",
    "setA = generatePoints(100, 100)\n",
    "setB = generateOnCircle(100, 10)\n",
    "setC = generateOnRect(1000,[-10, -10], [10, 10])\n",
    "setD = generateOnSquare()\n",
    "setE = generateOnRect(200, (10, 2), (14, 5))\n",
    "\n",
    "sets = [setA, setB, setC, setD, setE]\n",
    "\n",
    "for setx in sets:\n",
    "    setJarvis = jarvis(setx, 1e-4)\n",
    "    scenes.append(Scene([PointsCollection(setx, color='blue'),\n",
    "                     PointsCollection(setJarvis, color='orange')])) \n",
    "\n",
    "plot = Plot(scenes)\n",
    "plot.draw()"
   ]
  },
  {
   "cell_type": "code",
   "execution_count": 17,
   "metadata": {},
   "outputs": [],
   "source": [
    "\"\"\" prezentacja algorytmu Grahama krok po kroku \"\"\"\n",
    "from functools import cmp_to_key\n",
    "\n",
    "def cmp (a, b, lowest=(0, 0)):  \n",
    "    ans = orient(lowest, a, b)\n",
    "    return -1*ans\n",
    "\n",
    "def graham(points):\n",
    "    lowest = findAndDelLowest(points)\n",
    "    pts = sorted(points, key=cmp_to_key(lambda x,y: cmp(x, y,lowest)))  # sortowanie tablicy z wyłączeniem punktu najniższego\n",
    "#     print(pts)\n",
    "    points.append(lowest)  # ponowne dodanie najnizszego punktu do tabeli wejściowej\n",
    "    i = 1\n",
    "    res = [lowest, pts[0]]\n",
    "    while i<len(pts):\n",
    "        if len(res) < 2 or orient(res[-2], res[-1], pts[i]) > 0:\n",
    "#             print(\"adding \", pts[i])\n",
    "            res.append(pts[i])\n",
    "            i += 1\n",
    "        else:\n",
    "#             print(\"removing \", res[-1])\n",
    "            del res[-1]          \n",
    "    return res\n",
    "\n",
    "\n",
    "\n",
    "# mypts =[(1,2), (0,0), (2, 1),(0, -1) ,(-1, 1), (2, 3), (0, 3)] \n",
    "# print(graham(mypts))\n",
    "# print(mypts)\n",
    "  "
   ]
  },
  {
   "cell_type": "code",
   "execution_count": null,
   "metadata": {},
   "outputs": [],
   "source": []
  },
  {
   "cell_type": "code",
   "execution_count": null,
   "metadata": {},
   "outputs": [],
   "source": []
  }
 ],
 "metadata": {
  "kernelspec": {
   "display_name": "Python 3",
   "language": "python",
   "name": "python3"
  },
  "language_info": {
   "codemirror_mode": {
    "name": "ipython",
    "version": 3
   },
   "file_extension": ".py",
   "mimetype": "text/x-python",
   "name": "python",
   "nbconvert_exporter": "python",
   "pygments_lexer": "ipython3",
   "version": "3.7.2"
  },
  "pycharm": {
   "stem_cell": {
    "cell_type": "raw",
    "metadata": {
     "collapsed": false
    },
    "source": []
   }
  }
 },
 "nbformat": 4,
 "nbformat_minor": 1
}
